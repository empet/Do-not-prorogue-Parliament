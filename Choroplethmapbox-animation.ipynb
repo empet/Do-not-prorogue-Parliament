{
 "cells": [
  {
   "cell_type": "markdown",
   "metadata": {},
   "source": [
    "## Choroplethmapbox animation"
   ]
  },
  {
   "cell_type": "markdown",
   "metadata": {},
   "source": [
    "We  define an animated Choroplethmapbox, where each frame consists in plotting only two counties from Switzerland."
   ]
  },
  {
   "cell_type": "code",
   "execution_count": null,
   "metadata": {},
   "outputs": [],
   "source": [
    "import numpy as np\n",
    "import json\n",
    "import plotly.graph_objs as go"
   ]
  },
  {
   "cell_type": "code",
   "execution_count": null,
   "metadata": {},
   "outputs": [],
   "source": [
    "import urllib.request\n",
    "\n",
    "def read_geojson(url):\n",
    "    with urllib.request.urlopen(url) as url:\n",
    "        jdata = json.loads(url.read().decode())\n",
    "    return jdata "
   ]
  },
  {
   "cell_type": "code",
   "execution_count": null,
   "metadata": {},
   "outputs": [],
   "source": [
    "swiss_url = 'https://raw.githubusercontent.com/empet/Datasets/master/swiss-cantons.geojson'\n",
    "jdata = read_geojson(swiss_url)"
   ]
  },
  {
   "cell_type": "code",
   "execution_count": null,
   "metadata": {},
   "outputs": [],
   "source": [
    "import pandas as pd\n",
    "\n",
    "data_url = \"https://raw.githubusercontent.com/empet/Datasets/master/Swiss-synthetic-data.csv\"\n",
    "df = pd.read_csv(data_url)\n",
    "df.head()"
   ]
  },
  {
   "cell_type": "code",
   "execution_count": null,
   "metadata": {},
   "outputs": [],
   "source": [
    "len(jdata['features']), len(df)"
   ]
  },
  {
   "cell_type": "markdown",
   "metadata": {},
   "source": [
    "Define a list of geojson type dicts (its elements would correspond to geojson files for different countries in a continent, when\n",
    "                                    the animation is intended for that case):"
   ]
  },
  {
   "cell_type": "code",
   "execution_count": null,
   "metadata": {},
   "outputs": [],
   "source": [
    "geojs =[]\n",
    "for k in range(0, 26, 2):\n",
    "    geojs.append(dict(type='FeatureCollection',\n",
    "                features = jdata['features'][k:k+2]))"
   ]
  },
  {
   "cell_type": "code",
   "execution_count": null,
   "metadata": {},
   "outputs": [],
   "source": [
    "geojs[5].keys()"
   ]
  },
  {
   "cell_type": "code",
   "execution_count": null,
   "metadata": {},
   "outputs": [],
   "source": [
    "import plotly.express as px\n",
    "\n",
    "fig = px.choropleth_mapbox(df[:2], \n",
    "                           geojson=geojs[0], \n",
    "                           featureidkey='properties.id',\n",
    "                           locations='canton-id',\n",
    "                           color='2018',\n",
    "                           color_continuous_scale  ='matter_r',      \n",
    "                           zoom=6.25,\n",
    "                           center={'lat': 46.8181877 , 'lon':8.2275124 },\n",
    "                           mapbox_style='carto-positron')\n",
    "\n",
    "                  \n",
    "fig.update(frames = fig.frames, layout = fig.layout)\n",
    "fig.update_layout(title_text='Choroplethmapbox animation',\n",
    "                  title_x=0.5,\n",
    "                  width=900, height=500,\n",
    "                  coloraxis_cmin=min(df['2018']), \n",
    "                  coloraxis_cmax=max(df['2018']),\n",
    "                  coloraxis_colorbar_thickness=25);"
   ]
  },
  {
   "cell_type": "markdown",
   "metadata": {},
   "source": [
    "Below we are selecting from the df a new dataframe consisting in only  two rows and one column from the general dataframe, df:"
   ]
  },
  {
   "cell_type": "code",
   "execution_count": null,
   "metadata": {},
   "outputs": [],
   "source": [
    "k =3\n",
    "df.iloc[k:k+2, [1]]"
   ]
  },
  {
   "cell_type": "code",
   "execution_count": null,
   "metadata": {},
   "outputs": [],
   "source": [
    "df.iloc[k:k+2, [1]]['canton-id']"
   ]
  },
  {
   "cell_type": "code",
   "execution_count": null,
   "metadata": {},
   "outputs": [],
   "source": [
    "frames = [go.Frame(\n",
    "              data=[go.Choroplethmapbox(geojson=geojs[k//2], \n",
    "                                        locations=df.iloc[k:k+2, [1]]['canton-id'], # dataframe consisting in rows k:k+2 from df['canton-id'], \n",
    "                                        z=df.iloc[k:k+2, [2]]['2018'],  # rows k:k+2 from df['2018']\n",
    "                                       )],\n",
    "              name=f'fr{k//2}') for k in range(0, len(df), 2)]\n",
    "fig.update(frames=frames);"
   ]
  },
  {
   "cell_type": "code",
   "execution_count": null,
   "metadata": {},
   "outputs": [],
   "source": [
    "f_duration =350  #frame duration\n",
    "fig.update_layout(updatemenus=[dict(type='buttons', \n",
    "                                y=0,\n",
    "                                x=1.25,\n",
    "                                active=0,\n",
    "                                buttons=[dict(label='Play',\n",
    "                                              method='animate',\n",
    "                                              args=[None, \n",
    "                                                    dict(frame=dict(duration=f_duration, \n",
    "                                                                    redraw=True),\n",
    "                                                         transition=dict(duration=0),\n",
    "                                                         fromcurrent=True,\n",
    "                                                         mode='immediate')])])],\n",
    "                 sliders =  [dict(steps= [dict(method= 'animate',\n",
    "                              args= [[ f'fr{k}'],\n",
    "                                    dict(mode= 'immediate',\n",
    "                                         frame= dict( duration=f_duration, redraw= True ),\n",
    "                                         fromcurrent=True,\n",
    "                                         transition=dict( duration= 0))],\n",
    "                                         label=f\"fr{k}\") for k in range(len(frames))], \n",
    "                              minorticklen=0,\n",
    "                              x=0,\n",
    "                              len=1)]);\n",
    "fig.show()"
   ]
  },
  {
   "cell_type": "code",
   "execution_count": null,
   "metadata": {},
   "outputs": [],
   "source": [
    "import chart_studio.plotly as py\n",
    "py.plot(fig, filename='choroplethmbx-anim')"
   ]
  },
  {
   "cell_type": "markdown",
   "metadata": {},
   "source": [
    "**Remarks**:"
   ]
  },
  {
   "cell_type": "markdown",
   "metadata": {},
   "source": [
    "**1.** This method of decomposing the initial geojson file into many geojson type dicts has the advantage that requires less \n",
    "data to be involved in the animation. \n",
    "Another method could be to set `geojson=jdata` in the definition of `fig= px.choropleth_mapbox()`,\n",
    "and pass to each frame data   only  `locations` and `z`. In this case each frame inherits\n",
    "the other attributes set in `fig.data[0]`, i.e.\n",
    "for each frame is used the entire jdata file. Obviously this method is not recommended for large geojson files read as jdata.\n"
   ]
  },
  {
   "cell_type": "markdown",
   "metadata": {},
   "source": [
    "**2.**  If `fig.data[0]` is defined directly as an instance of the class `go.Choroplethmapbox`, not via `px.choroplethmapbox()`, then to ensure the correct mapping of  z-values in each frame, to the associated colorscale, the attributes `zmin`, `zmax` must be set, as can be seen below (note that for `go.Choroplethmapbox` we have `zmin`, `zmax` as attributes setting the least and the biggest value to be mapped to a colorscale, while using `px.choropleth_mapbox()', the same effect has setting\n",
    "coloraxis['cmin'], coloraxis['cmax'], and these differences of names  can be a bit confusing."
   ]
  },
  {
   "cell_type": "markdown",
   "metadata": {},
   "source": [
    "Alternative definition of fig, defined above by `px.choropleth_mapbox()`:"
   ]
  },
  {
   "cell_type": "code",
   "execution_count": null,
   "metadata": {},
   "outputs": [],
   "source": [
    "fig = go.Figure(go.Choroplethmapbox(geojson=geojs[0], \n",
    "                                    locations=df.iloc[0:2 , [1]]['canton-id'],\n",
    "                                    z=df.iloc[0:2 , [2]]['2018'], \n",
    "                                    featureidkey='properties.id',\n",
    "                                    colorscale='matter_r',\n",
    "                                    colorbar_thickness=25,\n",
    "                                    zmin=min(df['2018']),\n",
    "                                    zmax=max(df['2018']), \n",
    "                                    marker_line_width=1))\n",
    "\n",
    "\n",
    "fig.update_layout(title_text = 'Choroplethmapbox animation',\n",
    "                  title_x=0.5,\n",
    "                  width=800, height=500,\n",
    "                  mapbox=dict(style='carto-positron',\n",
    "                              zoom=6.25, \n",
    "                              center = {\"lat\": 46.8181877 , \"lon\":8.2275124 },\n",
    "                              ))\n"
   ]
  },
  {
   "cell_type": "code",
   "execution_count": null,
   "metadata": {},
   "outputs": [],
   "source": []
  }
 ],
 "metadata": {
  "kernelspec": {
   "display_name": "Python 3",
   "language": "python",
   "name": "python3"
  },
  "language_info": {
   "codemirror_mode": {
    "name": "ipython",
    "version": 3
   },
   "file_extension": ".py",
   "mimetype": "text/x-python",
   "name": "python",
   "nbconvert_exporter": "python",
   "pygments_lexer": "ipython3",
   "version": "3.7.3"
  }
 },
 "nbformat": 4,
 "nbformat_minor": 4
}
